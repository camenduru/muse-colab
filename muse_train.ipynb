{
  "cells": [
    {
      "cell_type": "markdown",
      "metadata": {
        "id": "view-in-github"
      },
      "source": [
        "[![Open In Colab](https://colab.research.google.com/assets/colab-badge.svg)](https://colab.research.google.com/github/camenduru/muse-colab/blob/main/muse_train.ipynb)"
      ]
    },
    {
      "cell_type": "code",
      "execution_count": null,
      "metadata": {
        "id": "fGYSQU9F-ya4"
      },
      "outputs": [],
      "source": [
        "!apt -y install -qq aria2\n",
        "!aria2c --console-log-level=error -c -x 16 -s 16 -k 1M https://huggingface.co/Sygil/Sygil-Muse/resolve/main/vae.1999500.pt -d /content/models -o vae.1999500.pt\n",
        "!pip install datasets\n",
        "!git clone https://github.com/korakoe/muse-maskgit-pytorch\n",
        "%cd /content/muse-maskgit-pytorch\n",
        "!pip install .\n",
        "\n",
        "from datasets import load_dataset\n",
        "ds = load_dataset(\"camenduru/ine-dataset-test\", split='train')\n",
        "!mkdir /content/data\n",
        "images = ds[\"image\"]\n",
        "texts = ds[\"text\"]\n",
        "for index, image in enumerate(images):\n",
        "    image.save(f\"/content/data/{index}.jpeg\", \"JPEG\")\n",
        "    with open(f\"/content/data/{index}.txt\", \"w\") as f:\n",
        "      f.write(texts[index])"
      ]
    },
    {
      "cell_type": "code",
      "execution_count": null,
      "metadata": {
        "colab": {
          "base_uri": "https://localhost:8080/"
        },
        "id": "0p5SIcvHILcV",
        "outputId": "33b3c238-b4ef-4ac0-b514-bb37e9d95f20"
      },
      "outputs": [],
      "source": [
        "%cd /content/muse-maskgit-pytorch\n",
        "!python train_muse_vae.py --train_data_dir \"/content/data\" --skip_arrow --image_size 512 --save_model_every 5000 --vq_codebook_size 8192 --mixed_precision fp16 --resume_path \"/content/models/vae.1999500.pt\" --latest_checkpoint --batch_size 16"
      ]
    }
  ],
  "metadata": {
    "accelerator": "GPU",
    "colab": {
      "gpuType": "T4",
      "provenance": []
    },
    "kernelspec": {
      "display_name": "Python 3",
      "name": "python3"
    },
    "language_info": {
      "name": "python"
    }
  },
  "nbformat": 4,
  "nbformat_minor": 0
}
